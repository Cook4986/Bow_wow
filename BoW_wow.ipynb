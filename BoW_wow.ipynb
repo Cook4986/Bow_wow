{
 "cells": [
  {
   "cell_type": "code",
   "execution_count": null,
   "id": "d305d7e2",
   "metadata": {},
   "outputs": [],
   "source": [
    "##Takes .txt (or .csv) transcriptions, and keywords list, and returns keyword matches\n",
    "#Cook2023"
   ]
  },
  {
   "cell_type": "code",
   "execution_count": null,
   "id": "887331b4",
   "metadata": {},
   "outputs": [],
   "source": [
    "#Libraries\n",
    "import os\n",
    "import sys\n",
    "from pathlib import Path\n"
   ]
  },
  {
   "cell_type": "code",
   "execution_count": null,
   "id": "995d4c47",
   "metadata": {},
   "outputs": [],
   "source": [
    "#declarations\n",
    "target = '...'#parent directory for all transcriptions (csv or txt)\n",
    "BoW_txt = '...' #Bag-of-Words output for txt\n"
   ]
  },
  {
   "cell_type": "code",
   "execution_count": null,
   "id": "2152a2d3",
   "metadata": {},
   "outputs": [],
   "source": [
    "#Collates docs\n",
    "BoW = open(BoW_txt, \"a\")\n",
    "\n",
    "#append bag-of-words with headers and transcriptions\n",
    "for path in sorted(Path(target).rglob('*.txt')): #change to .txt for plaintext\n",
    "    header = path.stem.split('.')\n",
    "    BoW.write(\"\\n\")\n",
    "    BoW.write(header[0]) #write headers location to bag-of-words\n",
    "    BoW.write(\"\\n\")\n",
    "    absolute = (str(path.parent) + \"/\" + path.name)\n",
    "    contents = open(absolute, \"r\") \n",
    "    BoW.write(str(contents.read())) #write transcriptions to bag-of-words\n",
    "    print((\"Transcription for \" + header[0]) + \" added to bag-of-words\")\n",
    "    BoW.write(\"\\n\")\n",
    "BoW.close()\n",
    "\n",
    "print(\"\\n\")\n",
    "print(\"have a nice day\")\n"
   ]
  }
 ],
 "metadata": {
  "kernelspec": {
   "display_name": "Python 3 (ipykernel)",
   "language": "python",
   "name": "python3"
  },
  "language_info": {
   "codemirror_mode": {
    "name": "ipython",
    "version": 3
   },
   "file_extension": ".py",
   "mimetype": "text/x-python",
   "name": "python",
   "nbconvert_exporter": "python",
   "pygments_lexer": "ipython3",
   "version": "3.8.13"
  }
 },
 "nbformat": 4,
 "nbformat_minor": 5
}
